{
  "nbformat": 4,
  "nbformat_minor": 0,
  "metadata": {
    "colab": {
      "provenance": []
    },
    "kernelspec": {
      "name": "python3",
      "display_name": "Python 3"
    },
    "language_info": {
      "name": "python"
    }
  },
  "cells": [
    {
      "cell_type": "code",
      "source": [
        "#Q1\n",
        "class SymbolTable:\n",
        "    def __init__(self):\n",
        "        self.symbols = {}\n",
        "    def add_symbol(self, symbol, value):\n",
        "        self.symbols[symbol] = value\n",
        "    def get_symbol(self, symbol):\n",
        "        return self.symbols.get(symbol)\n",
        "    def remove_symbol(self, symbol):\n",
        "        if symbol in self.symbols:\n",
        "            del self.symbols[symbol]\n",
        "        else:\n",
        "            raise ValueError(f\"Symbol '{symbol}' not found\")\n",
        "    def get_all_symbols(self):\n",
        "        return list(self.symbols.keys())\n",
        "\n",
        "# Create a new symbol table\n",
        "table = SymbolTable()\n",
        "\n",
        "# Loop to add symbols to the table with user input\n",
        "while True:\n",
        "    symbol = input(\"Enter a symbol (or 'exit' to quit): \")\n",
        "    if symbol == \"exit\":\n",
        "        break\n",
        "    value = input(\"Enter the value of the symbol: \")\n",
        "    table.add_symbol(symbol, value)\n",
        "\n",
        "# Print the symbols in the table\n",
        "symbols = table.get_all_symbols()\n",
        "for symbol in symbols:\n",
        "    value = table.get_symbol(symbol)\n",
        "    print(f\"{symbol} = {value}\")"
      ],
      "metadata": {
        "colab": {
          "base_uri": "https://localhost:8080/"
        },
        "id": "jWxWz6zOZuOc",
        "outputId": "256868af-7b3b-43e6-92b3-df92b63f5fc9"
      },
      "execution_count": null,
      "outputs": [
        {
          "output_type": "stream",
          "name": "stdout",
          "text": [
            "Enter a symbol (or 'exit' to quit): ampercent\n",
            "Enter the value of the symbol: &\n",
            "Enter a symbol (or 'exit' to quit): hashtag\n",
            "Enter the value of the symbol: #\n",
            "Enter a symbol (or 'exit' to quit): equal\n",
            "Enter the value of the symbol: =\n",
            "Enter a symbol (or 'exit' to quit): plus\n",
            "Enter the value of the symbol: +\n",
            "Enter a symbol (or 'exit' to quit): minus\n",
            "Enter the value of the symbol: -\n",
            "Enter a symbol (or 'exit' to quit): multiply\n",
            "Enter the value of the symbol: *\n",
            "Enter a symbol (or 'exit' to quit): exit\n",
            "ampercent = &\n",
            "hashtag = #\n",
            "equal = =\n",
            "plus = +\n",
            "minus = -\n",
            "multiply = *\n"
          ]
        }
      ]
    },
    {
      "cell_type": "code",
      "source": [
        "#Q2\n",
        "import re\n",
        "\n",
        "program = '''\n",
        "def greet(name):\n",
        "    print(\"Hello, \" + name + \"!\")\n",
        "\n",
        "greet(\"Alice\")\n",
        "'''\n",
        "\n",
        "token_counts = {}\n",
        "\n",
        "tokens = re.findall(r'\\b\\w+\\b|[^\\s\\w]', program)\n",
        "\n",
        "for token in tokens:\n",
        "    if token in token_counts:\n",
        "        token_counts[token] += 1\n",
        "    else:\n",
        "        token_counts[token] = 1\n",
        "\n",
        "for token, count in token_counts.items():\n",
        "    print(token, count)\n"
      ],
      "metadata": {
        "colab": {
          "base_uri": "https://localhost:8080/"
        },
        "id": "-fO2Slnaaxb8",
        "outputId": "04199eac-162a-49e5-f15c-6de278a22255"
      },
      "execution_count": null,
      "outputs": [
        {
          "output_type": "stream",
          "name": "stdout",
          "text": [
            "def 1\n",
            "greet 2\n",
            "( 3\n",
            "name 2\n",
            ") 3\n",
            ": 1\n",
            "print 1\n",
            "\" 6\n",
            "Hello 1\n",
            ", 1\n",
            "+ 2\n",
            "! 1\n",
            "Alice 1\n"
          ]
        }
      ]
    }
  ]
}