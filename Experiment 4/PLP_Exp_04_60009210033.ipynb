{
  "nbformat": 4,
  "nbformat_minor": 0,
  "metadata": {
    "colab": {
      "provenance": []
    },
    "kernelspec": {
      "name": "python3",
      "display_name": "Python 3"
    },
    "language_info": {
      "name": "python"
    }
  },
  "cells": [
    {
      "cell_type": "code",
      "execution_count": null,
      "metadata": {
        "id": "vrQHgRo05vkV"
      },
      "outputs": [],
      "source": [
        "from functools import reduce"
      ]
    },
    {
      "cell_type": "markdown",
      "source": [
        "Q1] Write program using lambda function to display odd numbers from the given the list."
      ],
      "metadata": {
        "id": "kMyXKhUd6ZWV"
      }
    },
    {
      "cell_type": "code",
      "source": [
        "sequence = [10,25,4,21,3,15]\n",
        "final_list = list(filter(lambda x: (x % 2 != 0), sequence))\n",
        "print(final_list)"
      ],
      "metadata": {
        "colab": {
          "base_uri": "https://localhost:8080/"
        },
        "id": "4l7utGdW6hBW",
        "outputId": "2940a5f1-493c-472c-fc20-fa30a5d6373d"
      },
      "execution_count": null,
      "outputs": [
        {
          "output_type": "stream",
          "name": "stdout",
          "text": [
            "[25, 21, 3, 15]\n"
          ]
        }
      ]
    },
    {
      "cell_type": "markdown",
      "source": [
        "Q2] Write program using lambda function to display addition of all numbers from the given the list."
      ],
      "metadata": {
        "id": "Nj2qz6oz7HKd"
      }
    },
    {
      "cell_type": "code",
      "source": [
        "sequence = [10,25,4,21,3,15]\n",
        "final_list = reduce(lambda x,y:x+y,sequence)\n",
        "print(final_list)"
      ],
      "metadata": {
        "colab": {
          "base_uri": "https://localhost:8080/"
        },
        "id": "ATS8F-6Q7Kmt",
        "outputId": "0eafbb98-763a-4317-f965-3fb7fe656b88"
      },
      "execution_count": null,
      "outputs": [
        {
          "output_type": "stream",
          "name": "stdout",
          "text": [
            "78\n"
          ]
        }
      ]
    },
    {
      "cell_type": "markdown",
      "source": [
        "Q3] Write program using lambda function to Multiply all the elements from the given list by 5."
      ],
      "metadata": {
        "id": "ykW8lWtp744O"
      }
    },
    {
      "cell_type": "code",
      "source": [
        "sequence = [10,25,4,21,3,15]\n",
        "filtered_result = map (lambda x: x*5, sequence)\n",
        "print(list(filtered_result))"
      ],
      "metadata": {
        "colab": {
          "base_uri": "https://localhost:8080/"
        },
        "id": "IVAIEdNq7_-2",
        "outputId": "19694e21-034e-4ee6-bc5c-beb5d8d76cd7"
      },
      "execution_count": null,
      "outputs": [
        {
          "output_type": "stream",
          "name": "stdout",
          "text": [
            "[50, 125, 20, 105, 15, 75]\n"
          ]
        }
      ]
    },
    {
      "cell_type": "markdown",
      "source": [
        "Q4] Write program using lambda function to display numbers divisible by 9 from the given the list."
      ],
      "metadata": {
        "id": "3gL4bRQf8YDG"
      }
    },
    {
      "cell_type": "code",
      "source": [
        "sequence = [10,25,4,21,3,15]\n",
        "filtered_result = filter (lambda x: x%9==0, sequence)\n",
        "print(list(filtered_result))"
      ],
      "metadata": {
        "colab": {
          "base_uri": "https://localhost:8080/"
        },
        "id": "C5W40iam8aJG",
        "outputId": "2640bb50-f851-4549-9b6d-df54cb9b8002"
      },
      "execution_count": null,
      "outputs": [
        {
          "output_type": "stream",
          "name": "stdout",
          "text": [
            "[]\n"
          ]
        }
      ]
    },
    {
      "cell_type": "markdown",
      "source": [
        "Q5] Write a Python program to sort a list of tuples using Lambda.\n",
        "Original list of tuples:\n",
        "[('English', 88), ('Science', 90), ('Maths', 97), ('Social sciences', 82)]\n",
        "Sorting the List of Tuples:\n",
        "[('Social sciences', 82), ('English', 88), ('Science', 90), ('Maths', 97)]."
      ],
      "metadata": {
        "id": "IYjhZI9h9DY2"
      }
    },
    {
      "cell_type": "code",
      "source": [
        "sequence = [('English', 88), ('Science', 90), ('Maths', 97), ('Social sciences', 82)]\n",
        "sorted_list = sorted(sequence, key=lambda x: x[1])\n",
        "print(sorted_list)"
      ],
      "metadata": {
        "colab": {
          "base_uri": "https://localhost:8080/"
        },
        "id": "ckz3Sugb9KZu",
        "outputId": "1a661ba6-3f30-4dd9-bbfa-9dbc5bfb5b82"
      },
      "execution_count": null,
      "outputs": [
        {
          "output_type": "stream",
          "name": "stdout",
          "text": [
            "[('Social sciences', 82), ('English', 88), ('Science', 90), ('Maths', 97)]\n"
          ]
        }
      ]
    },
    {
      "cell_type": "markdown",
      "source": [
        "Q6] Write a Python program to find the intersection of two given arrays using Lambda\n",
        "Original arrays:\n",
        "[1, 2, 3, 5, 7, 8, 9, 10]\n",
        "[1, 2, 4, 8, 9]\n",
        "Intersection of the said arrays: [1, 2, 8, 9]"
      ],
      "metadata": {
        "id": "-6HEwqBZ9_n_"
      }
    },
    {
      "cell_type": "code",
      "source": [
        "a = [1, 2, 3, 5, 7, 8, 9, 10]\n",
        "b = [1, 2, 4, 8, 9]\n",
        "intersection = list(filter(lambda x: x in a, b))\n",
        "print(intersection)"
      ],
      "metadata": {
        "colab": {
          "base_uri": "https://localhost:8080/"
        },
        "id": "KNgf1HoN-Bi2",
        "outputId": "b0be9bc7-3afc-4b03-a745-6f433d271ee7"
      },
      "execution_count": null,
      "outputs": [
        {
          "output_type": "stream",
          "name": "stdout",
          "text": [
            "[1, 2, 8, 9]\n"
          ]
        }
      ]
    },
    {
      "cell_type": "markdown",
      "source": [
        "Q7]     7. Write a Python program to count the even and odd numbers in each array of integers using Lambda.\n",
        " Original arrays:\n",
        "[1, 2, 3, 5, 7, 8, 9, 10]\n",
        "Number of even numbers in the above array: 3\n",
        "Number of odd numbers in the above array: 5."
      ],
      "metadata": {
        "id": "fvfGRPf4-mqm"
      }
    },
    {
      "cell_type": "code",
      "source": [
        "a = [1, 2, 3, 5, 7, 8, 9, 10]\n",
        "even_count = len(list(filter(lambda x: x % 2 == 0, a)))\n",
        "odd_count = len(list(filter(lambda x: x % 2 != 0, a)))\n",
        "print(\"Number of even numbers in the above array:\",even_count)\n",
        "print(\"Number of odd numbers in the above array: \",odd_count)"
      ],
      "metadata": {
        "colab": {
          "base_uri": "https://localhost:8080/"
        },
        "id": "HHRGpKBE-qVu",
        "outputId": "ed2475ab-36f0-4506-cbe3-115ab93e9c4c"
      },
      "execution_count": null,
      "outputs": [
        {
          "output_type": "stream",
          "name": "stdout",
          "text": [
            "Number of even numbers in the above array: 3\n",
            "Number of odd numbers in the above array:  5\n"
          ]
        }
      ]
    },
    {
      "cell_type": "markdown",
      "source": [
        "Q8] Write a Python program to add two given lists using map and lambda.\n",
        "Original list:\n",
        "[1, 2, 3]\n",
        "[4, 5, 6]\n",
        "Result: after adding two list\n",
        "[5, 7, 9]"
      ],
      "metadata": {
        "id": "B4eUNdVf_WoX"
      }
    },
    {
      "cell_type": "code",
      "source": [
        "a = [1, 2, 3]\n",
        "b = [4, 5, 6]\n",
        "\n",
        "result = list(map(lambda x, y: x + y, a, b))\n",
        "print(result)"
      ],
      "metadata": {
        "colab": {
          "base_uri": "https://localhost:8080/"
        },
        "id": "ue2-grZZ_Zbm",
        "outputId": "b765afe3-0981-4ce3-d49f-b82e9f6b64e0"
      },
      "execution_count": null,
      "outputs": [
        {
          "output_type": "stream",
          "name": "stdout",
          "text": [
            "[5, 7, 9]\n"
          ]
        }
      ]
    }
  ]
}