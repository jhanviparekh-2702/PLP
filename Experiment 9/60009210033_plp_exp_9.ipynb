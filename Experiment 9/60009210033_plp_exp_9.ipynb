{
  "cells": [
    {
      "cell_type": "code",
      "execution_count": null,
      "metadata": {
        "id": "Kr7c-VV2XfSm"
      },
      "outputs": [],
      "source": [
        "#!/usr/bin/pyhton"
      ]
    },
    {
      "cell_type": "code",
      "execution_count": null,
      "metadata": {
        "id": "Nj7PIlLPgEjS"
      },
      "outputs": [],
      "source": [
        "import threading\n",
        "import time\n",
        ""
      ]
    },
    {
      "cell_type": "code",
      "execution_count": null,
      "metadata": {
        "id": "jaKrR_fKgElu"
      },
      "outputs": [],
      "source": [
        "# Shared Memory variables\n",
        "CAPACITY = 10\n",
        "buffer = [-1 for i in range(CAPACITY)]\n",
        "in_index = 0\n",
        "out_index = 0"
      ]
    },
    {
      "cell_type": "code",
      "execution_count": null,
      "metadata": {
        "id": "GeRBCgjOgEoH"
      },
      "outputs": [],
      "source": [
        "# Declaring Semaphores\n",
        "mutex = threading.Semaphore()\n",
        "empty = threading.Semaphore(CAPACITY)\n",
        "full = threading.Semaphore(0)"
      ]
    },
    {
      "cell_type": "code",
      "execution_count": null,
      "metadata": {
        "id": "WzniwawggEr_"
      },
      "outputs": [],
      "source": [
        "# Producer Thread Class\n",
        "class Producer(threading.Thread):\n",
        "  def run(self):\n",
        "\n",
        "    global CAPACITY, buffer, in_index, out_index\n",
        "    global mutex, empty, full\n",
        "\n",
        "    items_produced = 0\n",
        "    counter = 0\n",
        "\n",
        "    while items_produced < 5:\n",
        "      empty.acquire()\n",
        "      mutex.acquire()\n",
        "\n",
        "      counter += 1\n",
        "      buffer[in_index] = counter\n",
        "      in_index = (in_index + 1)%CAPACITY\n",
        "      print(\"Producer produced : \", counter)\n",
        "\n",
        "      mutex.release()\n",
        "      full.release()\n",
        "\n",
        "      time.sleep(1)\n",
        ""
      ]
    },
    {
      "cell_type": "code",
      "execution_count": null,
      "metadata": {
        "id": "7sm01VW1gEuH"
      },
      "outputs": [],
      "source": [
        "# Consumer Thread Class\n",
        "class Consumer(threading.Thread):\n",
        "  def run(self):\n",
        "\n",
        "    global CAPACITY, buffer, in_index, out_index, counter\n",
        "    global mutex, empty, full\n",
        "\n",
        "    items_consumed = 0\n",
        "\n",
        "    while items_consumed < 5:\n",
        "      full.acquire()\n",
        "      mutex.acquire()\n",
        "\n",
        "      item = buffer[out_index]\n",
        "      out_index = (out_index + 1)%CAPACITY\n",
        "      print(\"Consumer consumed item : \", item)\n",
        "\n",
        "      mutex.release()\n",
        "      empty.release()\n",
        "\n",
        "      time.sleep(2.5)\n",
        "\n",
        "      items_consumed += 1"
      ]
    },
    {
      "cell_type": "code",
      "execution_count": null,
      "metadata": {
        "id": "WGvKKNavghe5"
      },
      "outputs": [],
      "source": [
        "# Creating Threads\n",
        "producer = Producer()\n",
        "consumer = Consumer()"
      ]
    },
    {
      "cell_type": "code",
      "execution_count": null,
      "metadata": {
        "colab": {
          "base_uri": "https://localhost:8080/"
        },
        "id": "rA0PWr3qghkG",
        "outputId": "79fa55b4-1374-4ca5-9c83-2c5b06ff7c27"
      },
      "outputs": [
        {
          "name": "stdout",
          "output_type": "stream",
          "text": [
            "Producer produced :  1\n",
            "Consumer consumed item :  1\n"
          ]
        }
      ],
      "source": [
        "# Starting Threads\n",
        "consumer.start()\n",
        "producer.start()"
      ]
    },
    {
      "cell_type": "code",
      "execution_count": null,
      "metadata": {
        "colab": {
          "base_uri": "https://localhost:8080/"
        },
        "id": "9OZ4eDPogmEP",
        "outputId": "6d855863-4913-49bc-b2c9-bbb032c024b4"
      },
      "outputs": [
        {
          "name": "stdout",
          "output_type": "stream",
          "text": [
            "Producer produced :  6\n",
            "Consumer consumed item :  3\n",
            "Producer produced :  7\n",
            "Producer produced :  8\n",
            "Consumer consumed item :  4\n",
            "Producer produced :  9\n",
            "Producer produced :  10\n",
            "Producer produced :  11\n",
            "Consumer consumed item :  5\n",
            "Producer produced :  12\n",
            "Producer produced :  13\n",
            "Producer produced :  14\n",
            "Producer produced :  15\n"
          ]
        }
      ],
      "source": [
        "# Waiting for threads to complete\n",
        "producer.join()\n",
        "consumer.join()"
      ]
    },
    {
      "cell_type": "code",
      "execution_count": null,
      "metadata": {
        "id": "idFdIOpDgmG3"
      },
      "outputs": [],
      "source": [
        "#sever code:"
      ]
    },
    {
      "cell_type": "code",
      "execution_count": null,
      "metadata": {
        "colab": {
          "background_save": true
        },
        "id": "AYKfNA0zgmJT"
      },
      "outputs": [],
      "source": [
        "#Q2\n",
        "#!/usr/bin/pyhton"
      ]
    },
    {
      "cell_type": "code",
      "execution_count": null,
      "metadata": {
        "id": "1Rkbc5PXgmK4"
      },
      "outputs": [],
      "source": [
        "#this is a client.py file"
      ]
    },
    {
      "cell_type": "code",
      "execution_count": null,
      "metadata": {
        "colab": {
          "background_save": true,
          "base_uri": "https://localhost:8080/"
        },
        "id": "EDYogMQ0gEwf",
        "outputId": "7479a3b6-7627-4371-e721-9859ca00716e"
      },
      "outputs": [
        {
          "name": "stdout",
          "output_type": "stream",
          "text": [
            "Socket successfully created\n",
            "socket binded to 12345\n",
            "socket is listening\n"
          ]
        }
      ],
      "source": [
        "# first of all import the socket library\n",
        "import socket\n",
        "\n",
        "# next create a socket object\n",
        "s = socket.socket()\n",
        "print (\"Socket successfully created\")\n",
        "\n",
        "# reserve a port on your computer in our\n",
        "# case it is 12345 but it can be anything\n",
        "port = 12345\n",
        "\n",
        "# Next bind to the port\n",
        "# we have not typed any ip in the ip field\n",
        "# instead we have inputted an empty string\n",
        "# this makes the server listen to requests\n",
        "# coming from other computers on the network\n",
        "s.bind(('', port))\n",
        "print (\"socket binded to %s\" %(port))\n",
        "\n",
        "# put the socket into listening mode\n",
        "s.listen(5)\n",
        "print (\"socket is listening\")\n",
        "\n",
        "# a forever loop until we interrupt it or\n",
        "# an error occurs\n",
        "while True:\n",
        "\n",
        "# Establish connection with client.\n",
        "  c, addr = s.accept()\n",
        "  print ('Got connection from', addr )\n",
        "\n",
        "  # send a thank you message to the client. encoding to send byte type.\n",
        "  c.send('Thank you for connecting'.encode())\n",
        "\n",
        "  # Close the connection with the client\n",
        "  c.close()\n",
        "\n",
        "  # Breaking once connection closed\n",
        "  break"
      ]
    },
    {
      "cell_type": "code",
      "execution_count": null,
      "metadata": {
        "id": "sx-GO6XTgE0g"
      },
      "outputs": [],
      "source": [
        "# Import socket module\n",
        "import socket\n",
        "\n",
        "# Create a socket object\n",
        "s = socket.socket()\n",
        "\n",
        "# Define the port on which you want to connect\n",
        "port = 12345\n",
        "\n",
        "# connect to the server on local computer\n",
        "s.connect(('127.0.0.1', port))\n",
        "\n",
        "# receive data from the server and decoding to get the string.\n",
        "print (s.recv(1024).decode())\n",
        "# close the connection\n",
        "s.close()"
      ]
    },
    {
      "cell_type": "code",
      "execution_count": null,
      "metadata": {
        "id": "I4Wj_rQ9bfQZ"
      },
      "outputs": [],
      "source": []
    }
  ],
  "metadata": {
    "colab": {
      "provenance": []
    },
    "kernelspec": {
      "display_name": "Python 3",
      "name": "python3"
    },
    "language_info": {
      "name": "python"
    }
  },
  "nbformat": 4,
  "nbformat_minor": 0
}